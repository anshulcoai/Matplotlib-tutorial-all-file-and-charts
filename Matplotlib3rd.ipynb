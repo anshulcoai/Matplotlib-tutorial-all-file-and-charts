{
 "cells": [
  {
   "cell_type": "code",
   "execution_count": 1,
   "id": "6b6cff69-0f51-4a2b-ad0d-02760105bdf1",
   "metadata": {},
   "outputs": [],
   "source": [
    "import numpy as np\n",
    "import pandas as pd\n",
    "import matplotlib.pyplot as plt"
   ]
  },
  {
   "cell_type": "code",
   "execution_count": 2,
   "id": "8a7f8a9f-0395-45b6-9b63-d6d879dc132b",
   "metadata": {},
   "outputs": [],
   "source": [
    "food=pd.read_csv(r'C:\\Users\\pc\\Downloads\\foods.csv')"
   ]
  },
  {
   "cell_type": "code",
   "execution_count": 3,
   "id": "e910ff48-ed9a-4ab0-8fa7-f8232a8dc966",
   "metadata": {},
   "outputs": [
    {
     "name": "stdout",
     "output_type": "stream",
     "text": [
      "<class 'pandas.core.frame.DataFrame'>\n",
      "RangeIndex: 1000 entries, 0 to 999\n",
      "Data columns (total 6 columns):\n",
      " #   Column      Non-Null Count  Dtype  \n",
      "---  ------      --------------  -----  \n",
      " 0   First Name  1000 non-null   object \n",
      " 1   Gender      1000 non-null   object \n",
      " 2   City        1000 non-null   object \n",
      " 3   Frequency   1000 non-null   object \n",
      " 4   Item        1000 non-null   object \n",
      " 5   Spend       1000 non-null   float64\n",
      "dtypes: float64(1), object(5)\n",
      "memory usage: 47.0+ KB\n"
     ]
    }
   ],
   "source": [
    "food.info()"
   ]
  },
  {
   "cell_type": "code",
   "execution_count": 4,
   "id": "10e78981-7dae-4455-866d-4e41d7dfbe6c",
   "metadata": {},
   "outputs": [],
   "source": [
    "df=food.pivot_table(values='Spend',index=['Gender','Item'],aggfunc='mean')"
   ]
  },
  {
   "cell_type": "code",
   "execution_count": 5,
   "id": "049aa1ef-3d91-4bfb-8e06-6ef6c1a1afc3",
   "metadata": {},
   "outputs": [
    {
     "data": {
      "text/html": [
       "<div>\n",
       "<style scoped>\n",
       "    .dataframe tbody tr th:only-of-type {\n",
       "        vertical-align: middle;\n",
       "    }\n",
       "\n",
       "    .dataframe tbody tr th {\n",
       "        vertical-align: top;\n",
       "    }\n",
       "\n",
       "    .dataframe thead th {\n",
       "        text-align: right;\n",
       "    }\n",
       "</style>\n",
       "<table border=\"1\" class=\"dataframe\">\n",
       "  <thead>\n",
       "    <tr style=\"text-align: right;\">\n",
       "      <th></th>\n",
       "      <th></th>\n",
       "      <th>Spend</th>\n",
       "    </tr>\n",
       "    <tr>\n",
       "      <th>Gender</th>\n",
       "      <th>Item</th>\n",
       "      <th></th>\n",
       "    </tr>\n",
       "  </thead>\n",
       "  <tbody>\n",
       "    <tr>\n",
       "      <th rowspan=\"6\" valign=\"top\">Female</th>\n",
       "      <th>Burger</th>\n",
       "      <td>49.930488</td>\n",
       "    </tr>\n",
       "    <tr>\n",
       "      <th>Burrito</th>\n",
       "      <td>50.092000</td>\n",
       "    </tr>\n",
       "    <tr>\n",
       "      <th>Chalupa</th>\n",
       "      <td>54.635000</td>\n",
       "    </tr>\n",
       "    <tr>\n",
       "      <th>Donut</th>\n",
       "      <td>49.926316</td>\n",
       "    </tr>\n",
       "    <tr>\n",
       "      <th>Ice Cream</th>\n",
       "      <td>49.788519</td>\n",
       "    </tr>\n",
       "    <tr>\n",
       "      <th>Sushi</th>\n",
       "      <td>50.355699</td>\n",
       "    </tr>\n",
       "    <tr>\n",
       "      <th rowspan=\"6\" valign=\"top\">Male</th>\n",
       "      <th>Burger</th>\n",
       "      <td>49.613919</td>\n",
       "    </tr>\n",
       "    <tr>\n",
       "      <th>Burrito</th>\n",
       "      <td>48.344819</td>\n",
       "    </tr>\n",
       "    <tr>\n",
       "      <th>Chalupa</th>\n",
       "      <td>49.186761</td>\n",
       "    </tr>\n",
       "    <tr>\n",
       "      <th>Donut</th>\n",
       "      <td>43.649565</td>\n",
       "    </tr>\n",
       "    <tr>\n",
       "      <th>Ice Cream</th>\n",
       "      <td>51.096000</td>\n",
       "    </tr>\n",
       "    <tr>\n",
       "      <th>Sushi</th>\n",
       "      <td>55.614384</td>\n",
       "    </tr>\n",
       "  </tbody>\n",
       "</table>\n",
       "</div>"
      ],
      "text/plain": [
       "                      Spend\n",
       "Gender Item                \n",
       "Female Burger     49.930488\n",
       "       Burrito    50.092000\n",
       "       Chalupa    54.635000\n",
       "       Donut      49.926316\n",
       "       Ice Cream  49.788519\n",
       "       Sushi      50.355699\n",
       "Male   Burger     49.613919\n",
       "       Burrito    48.344819\n",
       "       Chalupa    49.186761\n",
       "       Donut      43.649565\n",
       "       Ice Cream  51.096000\n",
       "       Sushi      55.614384"
      ]
     },
     "execution_count": 5,
     "metadata": {},
     "output_type": "execute_result"
    }
   ],
   "source": [
    "df"
   ]
  },
  {
   "cell_type": "code",
   "execution_count": 6,
   "id": "2e25aabf-f9c6-49e9-80a1-5e43abcf767a",
   "metadata": {},
   "outputs": [
    {
     "data": {
      "text/html": [
       "<div>\n",
       "<style scoped>\n",
       "    .dataframe tbody tr th:only-of-type {\n",
       "        vertical-align: middle;\n",
       "    }\n",
       "\n",
       "    .dataframe tbody tr th {\n",
       "        vertical-align: top;\n",
       "    }\n",
       "\n",
       "    .dataframe thead th {\n",
       "        text-align: right;\n",
       "    }\n",
       "</style>\n",
       "<table border=\"1\" class=\"dataframe\">\n",
       "  <thead>\n",
       "    <tr style=\"text-align: right;\">\n",
       "      <th></th>\n",
       "      <th>First Name</th>\n",
       "      <th>Gender</th>\n",
       "      <th>City</th>\n",
       "      <th>Frequency</th>\n",
       "      <th>Item</th>\n",
       "      <th>Spend</th>\n",
       "    </tr>\n",
       "  </thead>\n",
       "  <tbody>\n",
       "    <tr>\n",
       "      <th>0</th>\n",
       "      <td>Wanda</td>\n",
       "      <td>Female</td>\n",
       "      <td>Stamford</td>\n",
       "      <td>Weekly</td>\n",
       "      <td>Burger</td>\n",
       "      <td>15.66</td>\n",
       "    </tr>\n",
       "    <tr>\n",
       "      <th>1</th>\n",
       "      <td>Eric</td>\n",
       "      <td>Male</td>\n",
       "      <td>Stamford</td>\n",
       "      <td>Daily</td>\n",
       "      <td>Chalupa</td>\n",
       "      <td>10.56</td>\n",
       "    </tr>\n",
       "    <tr>\n",
       "      <th>2</th>\n",
       "      <td>Charles</td>\n",
       "      <td>Male</td>\n",
       "      <td>New York</td>\n",
       "      <td>Never</td>\n",
       "      <td>Sushi</td>\n",
       "      <td>42.14</td>\n",
       "    </tr>\n",
       "    <tr>\n",
       "      <th>3</th>\n",
       "      <td>Anna</td>\n",
       "      <td>Female</td>\n",
       "      <td>Philadelphia</td>\n",
       "      <td>Once</td>\n",
       "      <td>Ice Cream</td>\n",
       "      <td>11.01</td>\n",
       "    </tr>\n",
       "    <tr>\n",
       "      <th>4</th>\n",
       "      <td>Deborah</td>\n",
       "      <td>Female</td>\n",
       "      <td>Philadelphia</td>\n",
       "      <td>Daily</td>\n",
       "      <td>Chalupa</td>\n",
       "      <td>23.49</td>\n",
       "    </tr>\n",
       "    <tr>\n",
       "      <th>...</th>\n",
       "      <td>...</td>\n",
       "      <td>...</td>\n",
       "      <td>...</td>\n",
       "      <td>...</td>\n",
       "      <td>...</td>\n",
       "      <td>...</td>\n",
       "    </tr>\n",
       "    <tr>\n",
       "      <th>995</th>\n",
       "      <td>Donna</td>\n",
       "      <td>Female</td>\n",
       "      <td>New York</td>\n",
       "      <td>Monthly</td>\n",
       "      <td>Sushi</td>\n",
       "      <td>83.53</td>\n",
       "    </tr>\n",
       "    <tr>\n",
       "      <th>996</th>\n",
       "      <td>Albert</td>\n",
       "      <td>Male</td>\n",
       "      <td>Philadelphia</td>\n",
       "      <td>Daily</td>\n",
       "      <td>Sushi</td>\n",
       "      <td>72.88</td>\n",
       "    </tr>\n",
       "    <tr>\n",
       "      <th>997</th>\n",
       "      <td>Jean</td>\n",
       "      <td>Female</td>\n",
       "      <td>Stamford</td>\n",
       "      <td>Weekly</td>\n",
       "      <td>Donut</td>\n",
       "      <td>5.85</td>\n",
       "    </tr>\n",
       "    <tr>\n",
       "      <th>998</th>\n",
       "      <td>Jessica</td>\n",
       "      <td>Female</td>\n",
       "      <td>New York</td>\n",
       "      <td>Daily</td>\n",
       "      <td>Chalupa</td>\n",
       "      <td>43.19</td>\n",
       "    </tr>\n",
       "    <tr>\n",
       "      <th>999</th>\n",
       "      <td>Brian</td>\n",
       "      <td>Male</td>\n",
       "      <td>New York</td>\n",
       "      <td>Daily</td>\n",
       "      <td>Chalupa</td>\n",
       "      <td>28.36</td>\n",
       "    </tr>\n",
       "  </tbody>\n",
       "</table>\n",
       "<p>1000 rows × 6 columns</p>\n",
       "</div>"
      ],
      "text/plain": [
       "    First Name  Gender          City Frequency       Item  Spend\n",
       "0        Wanda  Female      Stamford    Weekly     Burger  15.66\n",
       "1         Eric    Male      Stamford     Daily    Chalupa  10.56\n",
       "2      Charles    Male      New York     Never      Sushi  42.14\n",
       "3         Anna  Female  Philadelphia      Once  Ice Cream  11.01\n",
       "4      Deborah  Female  Philadelphia     Daily    Chalupa  23.49\n",
       "..         ...     ...           ...       ...        ...    ...\n",
       "995      Donna  Female      New York   Monthly      Sushi  83.53\n",
       "996     Albert    Male  Philadelphia     Daily      Sushi  72.88\n",
       "997       Jean  Female      Stamford    Weekly      Donut   5.85\n",
       "998    Jessica  Female      New York     Daily    Chalupa  43.19\n",
       "999      Brian    Male      New York     Daily    Chalupa  28.36\n",
       "\n",
       "[1000 rows x 6 columns]"
      ]
     },
     "execution_count": 6,
     "metadata": {},
     "output_type": "execute_result"
    }
   ],
   "source": [
    "food"
   ]
  },
  {
   "cell_type": "code",
   "execution_count": 8,
   "id": "50a49b9e-3646-4062-8bd9-1d79d024b8fc",
   "metadata": {},
   "outputs": [
    {
     "data": {
      "text/plain": [
       "([<matplotlib.axis.XTick at 0x1691a8e8b90>,\n",
       "  <matplotlib.axis.XTick at 0x1691a8e8410>,\n",
       "  <matplotlib.axis.XTick at 0x1691a920410>,\n",
       "  <matplotlib.axis.XTick at 0x1691a920b90>,\n",
       "  <matplotlib.axis.XTick at 0x1691a921310>,\n",
       "  <matplotlib.axis.XTick at 0x1691a921a90>],\n",
       " [Text(0.25, 0, 'Burger'),\n",
       "  Text(1.25, 0, 'Burrito'),\n",
       "  Text(2.25, 0, 'Chalupa'),\n",
       "  Text(3.25, 0, 'Donut'),\n",
       "  Text(4.25, 0, 'Ice Cream'),\n",
       "  Text(5.25, 0, 'Sushi')])"
      ]
     },
     "execution_count": 8,
     "metadata": {},
     "output_type": "execute_result"
    },
    {
     "data": {
      "image/png": "[encoded data removed]",
      "text/plain": [
       "<Figure size 1000x800 with 1 Axes>"
      ]
     },
     "metadata": {},
     "output_type": "display_data"
    }
   ],
   "source": [
    "food=pd.read_csv(r'C:\\Users\\pc\\Downloads\\foods.csv')\n",
    "df=food.pivot_table(values='Spend',index=['Gender','Item'],aggfunc='mean')\n",
    "\n",
    "barwidth=0.25\n",
    "fig=plt.subplots(figsize=(10,8))\n",
    "\n",
    "male=df.loc['Male']\n",
    "female=df.loc['Female']\n",
    "\n",
    "bar1=male['Spend'].values\n",
    "bar2=female['Spend'].values\n",
    "\n",
    "br1=np.arange(len(bar1))\n",
    "br2=[x + barwidth for x in br1]\n",
    "\n",
    "plt.bar(br1,bar1,color='r',width=barwidth)\n",
    "plt.bar(br2,bar2,color='b',width=barwidth)\n",
    "\n",
    "plt.xlabel('Gender Wise Food Items', fontweight='bold',fontsize=14)\n",
    "plt.ylabel('Average spend on food Items', fontweight='bold',fontsize=14)\n",
    "\n",
    "plt.xticks([r + barwidth for r in range(len(br1))],[i for i in male.index])"
   ]
  },
  {
   "cell_type": "code",
   "execution_count": null,
   "id": "db963123-fbae-4d18-95ba-3195e4dde652",
   "metadata": {},
   "outputs": [],
   "source": [
    "male.values"
   ]
  },
  {
   "cell_type": "code",
   "execution_count": null,
   "id": "d8d23287-262e-47c1-bf5f-64d60b9a20a6",
   "metadata": {},
   "outputs": [],
   "source": [
    "bar1"
   ]
  },
  {
   "cell_type": "code",
   "execution_count": null,
   "id": "5c655780-1015-433d-ae07-8a369c810f4e",
   "metadata": {},
   "outputs": [],
   "source": [
    "male.index"
   ]
  },
  {
   "cell_type": "code",
   "execution_count": null,
   "id": "96b6a2fb-182e-4904-bcba-e28b81780995",
   "metadata": {},
   "outputs": [],
   "source": [
    "fortune=pd.read_csv(r'C:\\Users\\pc\\Downloads\\fortune1000.csv')"
   ]
  },
  {
   "cell_type": "code",
   "execution_count": null,
   "id": "8e2cd344-eb89-4f5a-984e-42d76ccd047c",
   "metadata": {},
   "outputs": [],
   "source": [
    "fortune"
   ]
  },
  {
   "cell_type": "code",
   "execution_count": null,
   "id": "06036ac4-751a-478b-87c5-ab9f801af401",
   "metadata": {},
   "outputs": [],
   "source": [
    "ff=fortune.pivot_table(values='Company',index=['Revenue','Profits'],aggfunc=lambda x: ', '.join(x)).head(5).max"
   ]
  },
  {
   "cell_type": "code",
   "execution_count": null,
   "id": "9592cb28-b2b0-4b24-be30-adc8487b7bf6",
   "metadata": {},
   "outputs": [],
   "source": [
    "ff"
   ]
  },
  {
   "cell_type": "code",
   "execution_count": null,
   "id": "e32180e8-2b39-4c1b-8251-a068b5f54b2d",
   "metadata": {},
   "outputs": [],
   "source": [
    "fortune = pd.read_csv(r'C:\\Users\\pc\\Downloads\\fortune1000.csv')\n",
    "\n",
    "# Get the top 5 companies with highest revenue\n",
    "ff = fortune.nlargest(5, 'Revenue')\n",
    "\n",
    "barwidth = 0.25\n",
    "fig, ax = plt.subplots(figsize=(10, 8))\n",
    "\n",
    "# Company names for labels\n",
    "Company = ff['Company']\n",
    "bar1 = ff['Revenue'].values\n",
    "bar2 = ff['Profits'].values\n",
    "\n",
    "br1 = np.arange(len(bar1))\n",
    "br2 = [x + barwidth for x in br1]\n",
    "\n",
    "# Plotting bars\n",
    "plt.bar(br1, bar1, color='yellow', width=barwidth, label='Revenue')\n",
    "plt.bar(br2, bar2, color='green', width=barwidth, label='Profits')\n",
    "\n",
    "plt.xlabel('Companies With Highest Revenue and Profits', fontweight='bold', fontsize=14)\n",
    "plt.ylabel('Revenue and Profits', fontweight='bold', fontsize=14)\n",
    "plt.xticks([r + barwidth for r in range(len(bar1))], Company)\n",
    "\n",
    "plt.legend()\n",
    "plt.show()\n"
   ]
  },
  {
   "cell_type": "code",
   "execution_count": 2,
   "id": "ca1a667a-3041-44f9-b789-ff159eb21956",
   "metadata": {},
   "outputs": [
    {
     "ename": "NameError",
     "evalue": "name 'movie' is not defined",
     "output_type": "error",
     "traceback": [
      "\u001b[1;31m---------------------------------------------------------------------------\u001b[0m",
      "\u001b[1;31mNameError\u001b[0m                                 Traceback (most recent call last)",
      "Cell \u001b[1;32mIn[2], line 1\u001b[0m\n\u001b[1;32m----> 1\u001b[0m total_salary \u001b[38;5;241m=\u001b[39m \u001b[43mmovie\u001b[49m\u001b[38;5;241m.\u001b[39mgroupby(\u001b[38;5;124m\"\u001b[39m\u001b[38;5;124mBond_Actor\u001b[39m\u001b[38;5;124m\"\u001b[39m)[\u001b[38;5;124m\"\u001b[39m\u001b[38;5;124mSalary\u001b[39m\u001b[38;5;124m\"\u001b[39m]\u001b[38;5;241m.\u001b[39msum()\n",
      "\u001b[1;31mNameError\u001b[0m: name 'movie' is not defined"
     ]
    }
   ],
   "source": []
  },
  {
   "cell_type": "code",
   "execution_count": null,
   "id": "910bd2a2-568d-4acc-a4ad-77d3f49cd998",
   "metadata": {},
   "outputs": [],
   "source": []
  }
 ],
 "metadata": {
  "kernelspec": {
   "display_name": "Python 3 (ipykernel)",
   "language": "python",
   "name": "python3"
  },
  "language_info": {
   "codemirror_mode": {
    "name": "ipython",
    "version": 3
   },
   "file_extension": ".py",
   "mimetype": "text/x-python",
   "name": "python",
   "nbconvert_exporter": "python",
   "pygments_lexer": "ipython3",
   "version": "3.13.1"
  }
 },
 "nbformat": 4,
 "nbformat_minor": 5
}
